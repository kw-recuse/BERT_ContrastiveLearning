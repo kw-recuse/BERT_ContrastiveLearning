{
  "cells": [
    {
      "cell_type": "markdown",
      "metadata": {
        "id": "AFkfkEwc4Uzb"
      },
      "source": [
        "# Evals"
      ]
    },
    {
      "cell_type": "code",
      "execution_count": 5,
      "metadata": {
        "id": "RvbSELCI58ZC"
      },
      "outputs": [],
      "source": [
        "!rm -r /content/BERT_ContrastiveLearning"
      ]
    },
    {
      "cell_type": "code",
      "execution_count": 6,
      "metadata": {
        "colab": {
          "base_uri": "https://localhost:8080/"
        },
        "id": "EC8WnG8n2VA5",
        "outputId": "4a7ce321-168d-4f45-f027-c0dd104bd4ed"
      },
      "outputs": [
        {
          "name": "stdout",
          "output_type": "stream",
          "text": [
            "Cloning into 'BERT_ContrastiveLearning'...\n",
            "remote: Enumerating objects: 150, done.\u001b[K\n",
            "remote: Counting objects: 100% (150/150), done.\u001b[K\n",
            "remote: Compressing objects: 100% (95/95), done.\u001b[K\n",
            "remote: Total 150 (delta 69), reused 134 (delta 53), pack-reused 0 (from 0)\u001b[K\n",
            "Receiving objects: 100% (150/150), 28.94 KiB | 14.47 MiB/s, done.\n",
            "Resolving deltas: 100% (69/69), done.\n"
          ]
        }
      ],
      "source": [
        "!git clone https://github.com/kw-recuse/BERT_ContrastiveLearning.git"
      ]
    },
    {
      "cell_type": "code",
      "execution_count": 3,
      "metadata": {
        "colab": {
          "base_uri": "https://localhost:8080/"
        },
        "id": "LSSSMzqx7N7D",
        "outputId": "afb51ab5-577e-4d52-e148-778ec44b95a5"
      },
      "outputs": [
        {
          "name": "stdout",
          "output_type": "stream",
          "text": [
            "Collecting faiss-cpu\n",
            "  Downloading faiss_cpu-1.10.0-cp311-cp311-manylinux_2_28_x86_64.whl.metadata (4.4 kB)\n",
            "Requirement already satisfied: numpy<3.0,>=1.25.0 in /usr/local/lib/python3.11/dist-packages (from faiss-cpu) (2.0.2)\n",
            "Requirement already satisfied: packaging in /usr/local/lib/python3.11/dist-packages (from faiss-cpu) (24.2)\n",
            "Downloading faiss_cpu-1.10.0-cp311-cp311-manylinux_2_28_x86_64.whl (30.7 MB)\n",
            "\u001b[2K   \u001b[90m━━━━━━━━━━━━━━━━━━━━━━━━━━━━━━━━━━━━━━━━\u001b[0m \u001b[32m30.7/30.7 MB\u001b[0m \u001b[31m71.8 MB/s\u001b[0m eta \u001b[36m0:00:00\u001b[0m\n",
            "\u001b[?25hInstalling collected packages: faiss-cpu\n",
            "Successfully installed faiss-cpu-1.10.0\n"
          ]
        }
      ],
      "source": [
        "!pip install faiss-cpu"
      ]
    },
    {
      "cell_type": "code",
      "execution_count": 1,
      "metadata": {
        "id": "PLm_V5B_z85R"
      },
      "outputs": [],
      "source": [
        "import sys\n",
        "sys.path.append(\"/content/BERT_ContrastiveLearning\")\n",
        "from eval.bert_eval import BERT_Evaluator\n",
        "from eval.bert_chunk_eval import ChunkBERT_Eval\n",
        "from eval.tfidf_eval import TFIDF_Evaluator\n",
        "from eval.openai_eval import OpenAI_Evaluator"
      ]
    },
    {
      "cell_type": "markdown",
      "metadata": {
        "id": "AlTxy3o-37Dy"
      },
      "source": [
        "### **MultiLingual BERT Evaluation**"
      ]
    },
    {
      "cell_type": "code",
      "execution_count": 2,
      "metadata": {
        "colab": {
          "base_uri": "https://localhost:8080/"
        },
        "id": "D5iGFKAYz2ML",
        "outputId": "264ec228-4fe4-4f7b-9388-aa83599cf105"
      },
      "outputs": [
        {
          "name": "stderr",
          "output_type": "stream",
          "text": [
            "/usr/local/lib/python3.11/dist-packages/huggingface_hub/utils/_auth.py:94: UserWarning: \n",
            "The secret `HF_TOKEN` does not exist in your Colab secrets.\n",
            "To authenticate with the Hugging Face Hub, create a token in your settings tab (https://huggingface.co/settings/tokens), set it as secret in your Google Colab and restart your session.\n",
            "You will be able to reuse this secret in all of your notebooks.\n",
            "Please note that authentication is recommended but still optional to access public models or datasets.\n",
            "  warnings.warn(\n"
          ]
        },
        {
          "name": "stdout",
          "output_type": "stream",
          "text": [
            "Training pairs: 28168, Validation pairs: 872\n"
          ]
        },
        {
          "name": "stderr",
          "output_type": "stream",
          "text": [
            "\rBERT Evaluating:   0%|          | 0/109 [00:00<?, ?it/s]/content/BERT_ContrastiveLearning/eval/bert_eval.py:88: FutureWarning: `torch.cuda.amp.autocast(args...)` is deprecated. Please use `torch.amp.autocast('cuda', args...)` instead.\n",
            "  with autocast():\n",
            "                                                                  "
          ]
        },
        {
          "name": "stdout",
          "output_type": "stream",
          "text": [
            "BERT Validation Contrastive Loss: 0.38870161\n"
          ]
        },
        {
          "name": "stderr",
          "output_type": "stream",
          "text": [
            "\r"
          ]
        },
        {
          "data": {
            "text/plain": [
              "0.38870161"
            ]
          },
          "execution_count": 2,
          "metadata": {},
          "output_type": "execute_result"
        }
      ],
      "source": [
        "evaluator = BERT_Evaluator(\n",
        "    config_file=\"/content/BERT_ContrastiveLearning/configs/eval/mutlilingual_BERT.json\",\n",
        "    csv_file_path=\"/content/output_file.csv\",\n",
        "    col_name1=\"resume\",\n",
        "    col_name2=\"jd\",\n",
        "    label_col=\"label\"\n",
        ")\n",
        "\n",
        "evaluator.evaluate()"
      ]
    },
    {
      "cell_type": "markdown",
      "metadata": {
        "id": "0sujJGlu5c2Y"
      },
      "source": [
        "### **Fine-tuned MultiLingual BERT Evaluation**"
      ]
    },
    {
      "cell_type": "code",
      "execution_count": 3,
      "metadata": {
        "colab": {
          "base_uri": "https://localhost:8080/"
        },
        "id": "6s4h31ea2_WQ",
        "outputId": "118cbec6-9d3a-4c38-dc13-420665f6e258"
      },
      "outputs": [
        {
          "name": "stdout",
          "output_type": "stream",
          "text": [
            "Training pairs: 28168, Validation pairs: 872\n"
          ]
        },
        {
          "name": "stderr",
          "output_type": "stream",
          "text": [
            "\rBERT Evaluating:   0%|          | 0/109 [00:00<?, ?it/s]/content/BERT_ContrastiveLearning/eval/bert_eval.py:88: FutureWarning: `torch.cuda.amp.autocast(args...)` is deprecated. Please use `torch.amp.autocast('cuda', args...)` instead.\n",
            "  with autocast():\n",
            "                                                                  "
          ]
        },
        {
          "name": "stdout",
          "output_type": "stream",
          "text": [
            "BERT Validation Contrastive Loss: 0.10666553\n"
          ]
        },
        {
          "name": "stderr",
          "output_type": "stream",
          "text": [
            "\r"
          ]
        },
        {
          "data": {
            "text/plain": [
              "0.10666553"
            ]
          },
          "execution_count": 3,
          "metadata": {},
          "output_type": "execute_result"
        }
      ],
      "source": [
        "evaluator = BERT_Evaluator(\n",
        "    config_file=\"/content/BERT_ContrastiveLearning/configs/eval/finetuned_multilingual_BERT.json\",\n",
        "    csv_file_path=\"/content/output_file.csv\",\n",
        "    col_name1=\"resume\",\n",
        "    col_name2=\"jd\",\n",
        "    label_col=\"label\"\n",
        ")\n",
        "\n",
        "evaluator.evaluate()"
      ]
    },
    {
      "cell_type": "markdown",
      "metadata": {
        "id": "zdmH9DVe5ghS"
      },
      "source": [
        "### **Fine-tuned MultiLingual ChunkBERT Evaluation**"
      ]
    },
    {
      "cell_type": "code",
      "execution_count": 7,
      "metadata": {
        "colab": {
          "base_uri": "https://localhost:8080/"
        },
        "id": "Plll0G205jdt",
        "outputId": "c5150c6e-12d8-49fc-c136-602195649d3b"
      },
      "outputs": [
        {
          "name": "stdout",
          "output_type": "stream",
          "text": [
            "Training pairs: 28168, Validation pairs: 872\n"
          ]
        },
        {
          "name": "stderr",
          "output_type": "stream",
          "text": [
            "ChunkBERT Evaluating: 100%|██████████| 109/109 [00:09<00:00, 11.98it/s]"
          ]
        },
        {
          "name": "stdout",
          "output_type": "stream",
          "text": [
            "ChunkBERT Validation Contrastive Loss: 0.10121943\n"
          ]
        },
        {
          "name": "stderr",
          "output_type": "stream",
          "text": [
            "\n"
          ]
        },
        {
          "data": {
            "text/plain": [
              "0.10121943"
            ]
          },
          "execution_count": 7,
          "metadata": {},
          "output_type": "execute_result"
        }
      ],
      "source": [
        "evaluator = ChunkBERT_Eval(\n",
        "    config_file=\"/content/BERT_ContrastiveLearning/configs/eval/finetuned_multilingual_BERT.json\",\n",
        "    csv_file_path=\"/content/raw_output.csv\",\n",
        "    col_name1=\"resume\",\n",
        "    col_name2=\"jd\",\n",
        "    label_col=\"label\",\n",
        "    k=3\n",
        ")\n",
        "\n",
        "evaluator.evaluate()"
      ]
    },
    {
      "cell_type": "markdown",
      "metadata": {
        "id": "_djzyNJc5oHR"
      },
      "source": [
        "### **OpenAI-text-embedding-large-3 Evaluation**"
      ]
    },
    {
      "cell_type": "code",
      "execution_count": 8,
      "metadata": {
        "colab": {
          "base_uri": "https://localhost:8080/"
        },
        "id": "1AKP2iQn5rIO",
        "outputId": "e8fdef0a-0d1d-4c2c-e371-bde3f7daa7bf"
      },
      "outputs": [
        {
          "name": "stderr",
          "output_type": "stream",
          "text": [
            "OpenAI Evaluating: 100%|██████████| 19/19 [06:55<00:00, 21.89s/it]"
          ]
        },
        {
          "name": "stdout",
          "output_type": "stream",
          "text": [
            "OpenAI-text-embedding-3-large Validation Contrastive Loss: 0.28230843\n"
          ]
        },
        {
          "name": "stderr",
          "output_type": "stream",
          "text": [
            "\n"
          ]
        },
        {
          "data": {
            "text/plain": [
              "0.28230843"
            ]
          },
          "execution_count": 8,
          "metadata": {},
          "output_type": "execute_result"
        }
      ],
      "source": [
        "evaluator = OpenAI_Evaluator(config_file=\"/content/BERT_ContrastiveLearning/configs/eval/openai.json\",\n",
        "                            csv_file_path=\"/content/output_file.csv\")\n",
        "evaluator.evaluate()"
      ]
    },
    {
      "cell_type": "markdown",
      "metadata": {
        "id": "cfRFdUo-5r44"
      },
      "source": [
        "### **TF-IDF Evaluation**"
      ]
    },
    {
      "cell_type": "code",
      "execution_count": 8,
      "metadata": {
        "colab": {
          "base_uri": "https://localhost:8080/"
        },
        "id": "JIry6Tdi5toq",
        "outputId": "a4ee8475-2fda-4e45-95ef-1bc8c817a250"
      },
      "outputs": [
        {
          "name": "stderr",
          "output_type": "stream",
          "text": [
            "TF-IDF Evaluating: 100%|██████████| 871/871 [00:03<00:00, 277.89it/s]"
          ]
        },
        {
          "name": "stdout",
          "output_type": "stream",
          "text": [
            "TF-IDF Validation Contrastive Loss: 0.22140126\n"
          ]
        },
        {
          "name": "stderr",
          "output_type": "stream",
          "text": [
            "\n"
          ]
        },
        {
          "data": {
            "text/plain": [
              "0.22140126"
            ]
          },
          "execution_count": 8,
          "metadata": {},
          "output_type": "execute_result"
        }
      ],
      "source": [
        "evaluator = TFIDF_Evaluator(config_file=\"/content/BERT_ContrastiveLearning/configs/eval/tfidf.json\",\n",
        "                            csv_file_path=\"/content/output_file.csv\")\n",
        "evaluator.evaluate()"
      ]
    }
  ],
  "metadata": {
    "accelerator": "GPU",
    "colab": {
      "collapsed_sections": [
        "AlTxy3o-37Dy",
        "0sujJGlu5c2Y"
      ],
      "gpuType": "A100",
      "machine_shape": "hm",
      "provenance": []
    },
    "kernelspec": {
      "display_name": "Python 3",
      "name": "python3"
    },
    "language_info": {
      "name": "python"
    }
  },
  "nbformat": 4,
  "nbformat_minor": 0
}
